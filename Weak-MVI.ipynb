{
 "cells": [
  {
   "cell_type": "code",
   "execution_count": 1,
   "metadata": {},
   "outputs": [],
   "source": [
    "import os\n",
    "from math import exp\n",
    "\n",
    "import matplotlib.pyplot as plt\n",
    "import numpy as np\n",
    "from matplotlib import patches\n",
    "from mpl_toolkits.mplot3d import Axes3D\n"
   ]
  },
  {
   "cell_type": "code",
   "execution_count": 13,
   "metadata": {},
   "outputs": [],
   "source": [
    "def region() -> None:\n",
    "    x, y = np.mgrid[-2:2:1000j, -2:2:1000j]\n",
    "    gx =-(2*x*(x+y)*(x+2*y)+x*x*(2*x+3*y))/((x+y)*(x+2*y))**2\n",
    "    gy = -x*x*(3*x+6*y)/((x+y)*(x+2*y))**2\n",
    "#     gxy = 2*x\n",
    "#     gax = (gx+a*gxy*gy)/(1+a**2)\n",
    "#     gay = (-gy+a*gxy*gx)/(1+a**2)\n",
    "    z = gx*(x)+gy*(y-1)\n",
    "    z1 = (x*x*(3*x+6*y)+2*x*x*y*y)/((x+y)**2*(x+2*y)**2)\n",
    "    return((x,y,z,z1))\n"
   ]
  },
  {
   "cell_type": "code",
   "execution_count": 14,
   "metadata": {},
   "outputs": [
    {
     "name": "stderr",
     "output_type": "stream",
     "text": [
      "F:\\Anaconda\\lib\\site-packages\\ipykernel_launcher.py:3: RuntimeWarning: divide by zero encountered in true_divide\n",
      "  This is separate from the ipykernel package so we can avoid doing imports until\n",
      "F:\\Anaconda\\lib\\site-packages\\ipykernel_launcher.py:4: RuntimeWarning: divide by zero encountered in true_divide\n",
      "  after removing the cwd from sys.path.\n",
      "F:\\Anaconda\\lib\\site-packages\\ipykernel_launcher.py:8: RuntimeWarning: invalid value encountered in add\n",
      "  \n",
      "F:\\Anaconda\\lib\\site-packages\\ipykernel_launcher.py:9: RuntimeWarning: divide by zero encountered in true_divide\n",
      "  if __name__ == '__main__':\n"
     ]
    }
   ],
   "source": [
    "reg = region()"
   ]
  },
  {
   "cell_type": "code",
   "execution_count": 15,
   "metadata": {},
   "outputs": [
    {
     "data": {
      "text/plain": [
       "array([[-7.77777778e-01, -7.79411677e-01, -7.81050870e-01, ...,\n",
       "        -2.50511379e+05, -1.00001106e+06,             nan],\n",
       "       [-7.76145886e-01, -7.77777778e-01, -7.79414960e-01, ...,\n",
       "        -9.96015065e+05,             nan, -9.92026936e+05],\n",
       "       [-7.74512733e-01, -7.76142611e-01, -7.77777778e-01, ...,\n",
       "        -3.21925009e+32, -9.88046936e+05, -2.46523123e+05],\n",
       "       ...,\n",
       "       [-2.46523123e+05, -9.88046936e+05, -3.21925009e+32, ...,\n",
       "        -7.77777778e-01, -7.76142611e-01, -7.74512733e-01],\n",
       "       [-9.92026936e+05,             nan, -9.96015065e+05, ...,\n",
       "        -7.79414960e-01, -7.77777778e-01, -7.76145886e-01],\n",
       "       [            nan, -1.00001106e+06, -2.50511379e+05, ...,\n",
       "        -7.81050870e-01, -7.79411677e-01, -7.77777778e-01]])"
      ]
     },
     "execution_count": 15,
     "metadata": {},
     "output_type": "execute_result"
    }
   ],
   "source": [
    "reg[2]-reg[3]"
   ]
  },
  {
   "cell_type": "code",
   "execution_count": 6,
   "metadata": {},
   "outputs": [
    {
     "name": "stderr",
     "output_type": "stream",
     "text": [
      "F:\\Anaconda\\lib\\site-packages\\ipykernel_launcher.py:3: RuntimeWarning: divide by zero encountered in true_divide\n",
      "  This is separate from the ipykernel package so we can avoid doing imports until\n",
      "F:\\Anaconda\\lib\\site-packages\\ipykernel_launcher.py:4: RuntimeWarning: divide by zero encountered in true_divide\n",
      "  after removing the cwd from sys.path.\n",
      "F:\\Anaconda\\lib\\site-packages\\ipykernel_launcher.py:8: RuntimeWarning: invalid value encountered in add\n",
      "  \n",
      "F:\\Anaconda\\lib\\site-packages\\ipykernel_launcher.py:2: RuntimeWarning: invalid value encountered in less\n",
      "  \n"
     ]
    },
    {
     "data": {
      "text/plain": [
       "<matplotlib.collections.PathCollection at 0x1c37ad3ce08>"
      ]
     },
     "execution_count": 6,
     "metadata": {},
     "output_type": "execute_result"
    },
    {
     "data": {
      "image/png": "[encoded data removed]",
      "text/plain": [
       "<Figure size 432x288 with 1 Axes>"
      ]
     },
     "metadata": {
      "needs_background": "light"
     },
     "output_type": "display_data"
    }
   ],
   "source": [
    "i = 2 \n",
    "r = np.where(region()[2]<0)\n",
    "plt.scatter(region()[0][r[0],r[1]],region()[1][r[0],r[1]])"
   ]
  },
  {
   "cell_type": "code",
   "execution_count": null,
   "metadata": {},
   "outputs": [],
   "source": []
  }
 ],
 "metadata": {
  "kernelspec": {
   "display_name": "Python 3",
   "language": "python",
   "name": "python3"
  },
  "language_info": {
   "codemirror_mode": {
    "name": "ipython",
    "version": 3
   },
   "file_extension": ".py",
   "mimetype": "text/x-python",
   "name": "python",
   "nbconvert_exporter": "python",
   "pygments_lexer": "ipython3",
   "version": "3.7.4"
  }
 },
 "nbformat": 4,
 "nbformat_minor": 2
}
