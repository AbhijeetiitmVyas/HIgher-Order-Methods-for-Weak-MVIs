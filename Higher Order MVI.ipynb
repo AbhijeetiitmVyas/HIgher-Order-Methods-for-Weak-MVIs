{
 "cells": [
  {
   "cell_type": "markdown",
   "metadata": {},
   "source": [
    "# We implement our algorithm for p=2 on simple functions:"
   ]
  },
  {
   "cell_type": "markdown",
   "metadata": {},
   "source": [
    "## $f(x,y) = \\frac{k}{2}(x^2-y^2)+xy$"
   ]
  },
  {
   "cell_type": "code",
   "execution_count": 15,
   "metadata": {},
   "outputs": [],
   "source": [
    "import numpy as np"
   ]
  },
  {
   "cell_type": "code",
   "execution_count": 16,
   "metadata": {},
   "outputs": [],
   "source": [
    "import matplotlib.pyplot as plt"
   ]
  },
  {
   "cell_type": "code",
   "execution_count": 17,
   "metadata": {},
   "outputs": [],
   "source": [
    "k=2"
   ]
  },
  {
   "cell_type": "code",
   "execution_count": 18,
   "metadata": {},
   "outputs": [],
   "source": [
    "def oracle_1(x,y):\n",
    "    gx = k*x+y\n",
    "    gy = -k*y+x\n",
    "    gxy = 1\n",
    "    F = [gx,gy]\n",
    "    return(F)\n",
    "\n",
    "def oracle_2(x,y):\n",
    "    gxx = k\n",
    "    gxy = 1\n",
    "    gyy = -k\n",
    "    nabla_F = np.zeros((2,2))\n",
    "    nabla_F[0][0] = gxx\n",
    "    nabla_F[0][1] = gxy\n",
    "    nabla_F[1][0] = gxy\n",
    "    nabla_F[1][1] = gyy\n",
    "\n",
    "    return(nabla_F)"
   ]
  },
  {
   "cell_type": "markdown",
   "metadata": {},
   "source": [
    "$F = (kx+y,-ky+x)$\n",
    "\n",
    "$\\nabla F =\n",
    "\\left(\\begin{array}\n",
    "1k & 1\\\\\n",
    "1 & -k\n",
    "\\end{array}\\right)\n",
    "$"
   ]
  },
  {
   "cell_type": "code",
   "execution_count": 19,
   "metadata": {},
   "outputs": [],
   "source": [
    "#initialize iterates\n",
    "x_init,y_init = 0.5,0.5\n",
    "\n",
    "def iteration(x,y,delta):\n",
    "    #set parameters\n",
    "    l = 0\n",
    "#     delta = 0.1\n",
    "\n",
    "    norm_F = np.linalg.norm(oracle_1(x_init,y_init))\n",
    "    u = norm_F/delta\n",
    "\n",
    "    nu = delta*u**2/norm_F\n",
    "\n",
    "    lambd = (l+u)/2\n",
    "    lambda_m = lambd-nu\n",
    "\n",
    "    #prepare loop\n",
    "    A_1 = oracle_2(x,y)\n",
    "    A_1[0][0] += lambd\n",
    "    A_1[1][1] += lambd\n",
    "    \n",
    "    A_2 = oracle_2(x,y)\n",
    "    A_2[0][0] += lambda_m\n",
    "    A_2[1][1] += lambda_m\n",
    "    \n",
    "    temp_1 = np.linalg.norm(np.linalg.solve(A_1,oracle_1(x_init,y_init)))\n",
    "    temp_2 = np.linalg.norm(np.linalg.solve(A_2,oracle_1(x_init,y_init)))\n",
    "\n",
    "\n",
    "    while (not temp_1 <= lambd) and (temp_2> lambda_m):\n",
    "        if lambd <= delta*u**2/norm_F:\n",
    "            \n",
    "            break\n",
    "        if temp_1 <= lambd:\n",
    "            u = lambd\n",
    "            lambd = (l+u)/2\n",
    "            lambda_m = lambd-nu\n",
    "        else:\n",
    "            l = lambd\n",
    "            lambd = (l+u)/2\n",
    "            lambda_m = lambd-nu\n",
    "            A_1 = oracle_2(x,y)\n",
    "            A_1[0][0] += lambd\n",
    "            A_1[1][1] += lambd\n",
    "    return([x,y]-np.linalg.solve(A_1,oracle_1(x_init,y_init)))"
   ]
  },
  {
   "cell_type": "code",
   "execution_count": 20,
   "metadata": {},
   "outputs": [],
   "source": [
    "def HO_MVI(x_init,y_init,N,delta):\n",
    "    x,y = x_init,y_init\n",
    "    iterates_x = [x]\n",
    "    iterates_y = [y]\n",
    "    \n",
    "    for i in range(N):\n",
    "        x,y = iteration(x,y,delta)\n",
    "        iterates_x.append(x)\n",
    "        iterates_y.append(y)\n",
    "    return(iterates_x,iterates_y)"
   ]
  },
  {
   "cell_type": "code",
   "execution_count": 21,
   "metadata": {
    "scrolled": false
   },
   "outputs": [
    {
     "name": "stderr",
     "output_type": "stream",
     "text": [
      "F:\\Anaconda\\lib\\site-packages\\ipykernel_launcher.py:10: RuntimeWarning: divide by zero encountered in double_scalars\n",
      "  # Remove the CWD from sys.path while we load stuff.\n",
      "F:\\Anaconda\\lib\\site-packages\\ipykernel_launcher.py:12: RuntimeWarning: invalid value encountered in double_scalars\n",
      "  if sys.path[0] == '':\n"
     ]
    },
    {
     "data": {
      "image/png": "[encoded data removed]",
      "text/plain": [
       "<Figure size 432x288 with 1 Axes>"
      ]
     },
     "metadata": {
      "needs_background": "light"
     },
     "output_type": "display_data"
    }
   ],
   "source": [
    "for i in np.arange(0,0.5,0.1):\n",
    "    iterates = (HO_MVI(1,1,10,i))\n",
    "    plt.plot(iterates[0],iterates[1])"
   ]
  }
 ],
 "metadata": {
  "kernelspec": {
   "display_name": "Python 3",
   "language": "python",
   "name": "python3"
  },
  "language_info": {
   "codemirror_mode": {
    "name": "ipython",
    "version": 3
   },
   "file_extension": ".py",
   "mimetype": "text/x-python",
   "name": "python",
   "nbconvert_exporter": "python",
   "pygments_lexer": "ipython3",
   "version": "3.7.4"
  }
 },
 "nbformat": 4,
 "nbformat_minor": 2
}
